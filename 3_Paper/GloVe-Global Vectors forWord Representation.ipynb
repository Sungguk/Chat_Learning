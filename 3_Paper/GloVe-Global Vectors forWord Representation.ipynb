{
 "cells": [
  {
   "cell_type": "markdown",
   "metadata": {},
   "source": [
    "# GloVe: Global Vectors forWord Representation"
   ]
  },
  {
   "cell_type": "markdown",
   "metadata": {},
   "source": [
    "## Abstract"
   ]
  },
  {
   "cell_type": "markdown",
   "metadata": {},
   "source": [
    "The result is a new global logbilinear regression model that combines the advantages of the two major model families in the literature: global matrix factorization and local context window methods.\n",
    "\n",
    "규칙성에 필요한 모델 특성을 분석하여 단어 벡터로 나타 내기 위해\n",
    "글로벌 행렬 인수 분해 및 로컬 컨텍스트 창 방법을 결합한 새로운 글로벌 로그 선형 회귀 모델을 사용했다.\n",
    "\n",
    "### What is this?\n",
    "\n",
    "1. global matrix factorization\n",
    "2. local context window methods\n",
    "\n",
    "\n",
    "\n",
    "\n",
    "\n",
    "Our model efficiently leverages statistical information by training only on the nonzero elements in a word-word cooccurrence matrix, rather than on the entire sparse matrix or on individual context windows in a large corpus\n",
    "\n",
    "우리 모델은 전체 희소 행렬 또는 대형 코퍼스의 개별 컨텍스트 창보다는 단어 - 단어 공분산 행렬에서 0이 아닌 요소에 대해서만 학습함으로써 통계 정보를 효율적으로 활용합니다"
   ]
  },
  {
   "cell_type": "markdown",
   "metadata": {},
   "source": [
    "## The GloVe Model\n",
    "\n",
    "We use our insights to construct a new model for word representation which we call GloVe, for Global Vectors, because the global corpus statistics are captured directly by the model.\n",
    "\n",
    "전역 통찰력 통계는 모델에 의해 직접 포착되기 때문에 Global Vectors에 대해 GloVe라고 부르는 단어 표현을위한 새로운 모델을 만들기 위해 우리의 통찰력을 사용합니다."
   ]
  }
 ],
 "metadata": {
  "anaconda-cloud": {},
  "kernelspec": {
   "display_name": "Python [conda root]",
   "language": "python",
   "name": "conda-root-py"
  },
  "language_info": {
   "codemirror_mode": {
    "name": "ipython",
    "version": 2
   },
   "file_extension": ".py",
   "mimetype": "text/x-python",
   "name": "python",
   "nbconvert_exporter": "python",
   "pygments_lexer": "ipython2",
   "version": "2.7.12"
  }
 },
 "nbformat": 4,
 "nbformat_minor": 1
}
