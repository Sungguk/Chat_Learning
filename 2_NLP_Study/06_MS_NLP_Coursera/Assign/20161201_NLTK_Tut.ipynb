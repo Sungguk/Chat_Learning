{
 "cells": [
  {
   "cell_type": "markdown",
   "metadata": {},
   "source": [
    "Ryan Seongjin Shin\n",
    "\n",
    "sungjin7127@gmail.com\n",
    "\n",
    "2016-12-01\n",
    "\n",
    "NLTK Tutoral from Michigan NLP Course"
   ]
  },
  {
   "cell_type": "code",
   "execution_count": 1,
   "metadata": {
    "collapsed": true
   },
   "outputs": [],
   "source": [
    "#Import NLTK\n",
    "import nltk"
   ]
  },
  {
   "cell_type": "code",
   "execution_count": 3,
   "metadata": {
    "collapsed": true
   },
   "outputs": [
    {
     "data": {
      "text/plain": [
       "['At',\n",
       " \"eight'o\",\n",
       " 'clock',\n",
       " 'on',\n",
       " 'Thusday',\n",
       " 'morning',\n",
       " 'on',\n",
       " 'Thursday',\n",
       " 'morning',\n",
       " 'on',\n",
       " 'Thursday',\n",
       " 'morning']"
      ]
     },
     "execution_count": 3,
     "metadata": {},
     "output_type": "execute_result"
    }
   ],
   "source": [
    "#Tokenization\n",
    "sentence = \"At eight'o clock on Thusday morning on Thursday morning on Thursday morning\"\n",
    "tokens = nltk.word_tokenize(sentence)\n",
    "tokens"
   ]
  },
  {
   "cell_type": "code",
   "execution_count": 11,
   "metadata": {
    "collapsed": false,
    "scrolled": true
   },
   "outputs": [
    {
     "data": {
      "text/plain": [
       "{('clock', 'on'), ('morning', 'on'), ('on', 'Thursday'), ('on', 'Thusday')}"
      ]
     },
     "execution_count": 11,
     "metadata": {},
     "output_type": "execute_result"
    }
   ],
   "source": [
    "#N-gram Generation\n",
    "bigram_tuples = list(nltk.bigrams(tokens))\n",
    "trigram_tuples = list(nltk.trigrams(tokens))\n",
    "\n",
    "#Calc. count of each-ngram\n",
    "count = {item : bigram_tuples.count(item) for item in set(bigram_tuples)}\n",
    "\n",
    "#find n-gram\n",
    "ngrams = {item for item in set(bigram_tuples) if \"on\" in item}"
   ]
  },
  {
   "cell_type": "code",
   "execution_count": 13,
   "metadata": {
    "collapsed": false
   },
   "outputs": [],
   "source": [
    "#Default POS tagger (Non-stat.)\n",
    "default_tagger = nltk.DefaultTagger('NN')\n",
    "tagged_sentence = default_tagger.tag(tokens)\n",
    "\n",
    "#Helpset\n",
    "nltk.help.upenn_tagset('NN')"
   ]
  },
  {
   "cell_type": "code",
   "execution_count": 21,
   "metadata": {
    "collapsed": true
   },
   "outputs": [
    {
     "data": {
      "text/plain": [
       "[('At', None),\n",
       " (\"eight'o\", None),\n",
       " ('clock', None),\n",
       " ('on', None),\n",
       " ('Thusday', None),\n",
       " ('morning', 'VBG'),\n",
       " ('on', None),\n",
       " ('Thursday', None),\n",
       " ('morning', 'VBG'),\n",
       " ('on', None),\n",
       " ('Thursday', None),\n",
       " ('morning', 'VBG')]"
      ]
     },
     "execution_count": 21,
     "metadata": {},
     "output_type": "execute_result"
    }
   ],
   "source": [
    "#Regular Expression POS tagger (Non-stat)\n",
    "\n",
    "patterns = [(r'.*ing$', 'VBG'),(r'.*ed$', 'VBD'),(r'.*es$', 'VBZ'),(r'.*ed$', 'VB')]\n",
    "regexp_tagger = nltk.RegexpTagger(patterns)\n",
    "regexp_tagger.tag(tokens)"
   ]
  },
  {
   "cell_type": "code",
   "execution_count": 27,
   "metadata": {
    "collapsed": false
   },
   "outputs": [
    {
     "name": "stdout",
     "output_type": "stream",
     "text": [
      "<UnigramTagger: size=14394>\n"
     ]
    }
   ],
   "source": [
    "#N-gram HMM Tagger(Stat.)\n",
    "# import the corpus from NLTK and build the training set from sentences in \"news\"\n",
    "# Using Brown corpus\n",
    "from nltk.corpus import brown\n",
    "training = brown.tagged_sents(categories=\"news\")\n",
    "\n",
    "# Create unigram, bigram, trigram taggers based on the training set\n",
    "unigram_tagger = nltk.UnigramTagger(training)\n",
    "bigram_tagger = nltk.BigramTagger(training)\n",
    "trigram_tuples = nltk.TrigramTagger(training)"
   ]
  },
  {
   "cell_type": "code",
   "execution_count": 28,
   "metadata": {
    "collapsed": true
   },
   "outputs": [],
   "source": [
    "#Combination of Taggers\n",
    "#Tagger는 주어진 문장에서 최적의 tag seq.를 찾지 못하면 실패\n",
    "#실패하는 Tag에 대해서는 backoff 기능을 사용하여 확인 및 통일\n",
    "default_tagger = nltk.DefaultTagger(\"NN\")\n",
    "bigram_tagger = nltk.BigramTagger(training, backoff=default_tagger)\n",
    "trigram_tuples = nltk.TrigramTagger(training, backoff=default_tagger)"
   ]
  },
  {
   "cell_type": "code",
   "execution_count": 30,
   "metadata": {
    "collapsed": false
   },
   "outputs": [
    {
     "data": {
      "text/plain": [
       "<TrigramTagger: size=43630>"
      ]
     },
     "execution_count": 30,
     "metadata": {},
     "output_type": "execute_result"
    }
   ],
   "source": [
    "trigram_tuples"
   ]
  }
 ],
 "metadata": {
  "anaconda-cloud": {},
  "kernelspec": {
   "display_name": "Python [Root]",
   "language": "python",
   "name": "Python [Root]"
  },
  "language_info": {
   "codemirror_mode": {
    "name": "ipython",
    "version": 2
   },
   "file_extension": ".py",
   "mimetype": "text/x-python",
   "name": "python",
   "nbconvert_exporter": "python",
   "pygments_lexer": "ipython2",
   "version": "2.7.12"
  }
 },
 "nbformat": 4,
 "nbformat_minor": 0
}
